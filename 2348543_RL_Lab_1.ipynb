{
  "nbformat": 4,
  "nbformat_minor": 0,
  "metadata": {
    "colab": {
      "provenance": []
    },
    "kernelspec": {
      "name": "python3",
      "display_name": "Python 3"
    },
    "language_info": {
      "name": "python"
    }
  },
  "cells": [
    {
      "cell_type": "code",
      "execution_count": 1,
      "metadata": {
        "id": "KjLxG3TS8SrT"
      },
      "outputs": [],
      "source": [
        "import numpy as np\n",
        "\n",
        "class EpsilonGreedy:\n",
        "    def __init__(self, n_arms, epsilon):\n",
        "        self.n_arms = n_arms\n",
        "        self.epsilon = epsilon\n",
        "        self.counts = np.zeros(n_arms)\n",
        "        self.values = np.zeros(n_arms)\n",
        "\n",
        "    def select_arm(self):\n",
        "        if np.random.rand() < self.epsilon:\n",
        "            return np.random.randint(0, self.n_arms)\n",
        "        else:\n",
        "            return np.argmax(self.values)\n",
        "\n",
        "    def update(self, chosen_arm, reward):\n",
        "        self.counts[chosen_arm] += 1\n",
        "        n = self.counts[chosen_arm]\n",
        "        value = self.values[chosen_arm]\n",
        "        self.values[chosen_arm] = ((n - 1) / n) * value + (1 / n) * reward\n"
      ]
    },
    {
      "cell_type": "code",
      "source": [
        "n_arms = 4\n",
        "epsilon = 0.2\n",
        "n_trials = 1000\n",
        "rewards = np.random.randint(2, size=(4, 1000))\n",
        "\n",
        "agent = EpsilonGreedy(n_arms, epsilon)\n",
        "total_reward = 0\n",
        "\n",
        "for t in range(n_trials):\n",
        "    map = {}\n",
        "    arm = agent.select_arm()\n",
        "    reward = rewards[arm, t]\n",
        "    agent.update(arm, reward)\n",
        "    total_reward += reward\n",
        "\n",
        "\n",
        "print(\"Total Reward:\", total_reward)"
      ],
      "metadata": {
        "colab": {
          "base_uri": "https://localhost:8080/"
        },
        "id": "N25F1aLN8YYm",
        "outputId": "720288d6-15bc-48c8-a12e-489536c7a851"
      },
      "execution_count": 32,
      "outputs": [
        {
          "output_type": "stream",
          "name": "stdout",
          "text": [
            "Total Reward: 488\n"
          ]
        }
      ]
    },
    {
      "cell_type": "code",
      "source": [],
      "metadata": {
        "id": "MPphWrvV8hC6"
      },
      "execution_count": 26,
      "outputs": []
    },
    {
      "cell_type": "code",
      "source": [],
      "metadata": {
        "id": "qvX8goy8-F8p"
      },
      "execution_count": 26,
      "outputs": []
    },
    {
      "cell_type": "code",
      "source": [],
      "metadata": {
        "id": "ZPwzJLz--jok"
      },
      "execution_count": 20,
      "outputs": []
    },
    {
      "cell_type": "code",
      "source": [],
      "metadata": {
        "id": "s-yvBsbF-_H3"
      },
      "execution_count": null,
      "outputs": []
    }
  ]
}